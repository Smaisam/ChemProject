{
  "cells": [
    {
      "cell_type": "code",
      "execution_count": null,
      "metadata": {
        "colab": {
          "background_save": true,
          "base_uri": "https://localhost:8080/"
        },
        "id": "r8Sn7h9dVfZC",
        "outputId": "a23632b1-4faf-4507-97f2-3a0d6714bef3"
      },
      "outputs": [
        {
          "name": "stdout",
          "output_type": "stream",
          "text": [
            "Looking in indexes: https://pypi.org/simple, https://us-python.pkg.dev/colab-wheels/public/simple/\n",
            "Requirement already satisfied: rdkit-pypi in /usr/local/lib/python3.7/dist-packages (2022.3.5)\n",
            "Requirement already satisfied: numpy in /usr/local/lib/python3.7/dist-packages (from rdkit-pypi) (1.21.6)\n",
            "Requirement already satisfied: Pillow in /usr/local/lib/python3.7/dist-packages (from rdkit-pypi) (7.1.2)\n"
          ]
        }
      ],
      "source": [
        "!pip install rdkit-pypi"
      ]
    },
    {
      "cell_type": "code",
      "execution_count": null,
      "metadata": {
        "colab": {
          "background_save": true
        },
        "id": "GWEmrCDaSp-n"
      },
      "outputs": [],
      "source": [
        "import numpy as np\n",
        "import pandas as pd\n",
        "import matplotlib.pyplot as plt\n",
        "import seaborn as sns\n",
        "import pickle\n",
        "from rdkit import Chem\n",
        "from rdkit.Chem import Draw\n",
        "from rdkit.Chem.Draw import IPythonConsole\n",
        "from sklearn import svm\n",
        "from sklearn.metrics import mean_squared_error\n",
        "from sklearn import preprocessing\n",
        "from rdkit.Chem import rdMolDescriptors\n",
        "from rdkit.Chem import Descriptors3D\n",
        "from rdkit.Chem import Lipinski\n",
        "from rdkit.Chem import EnumerateHeterocycles\n",
        "from rdkit.Chem import Fragments\n",
        "import scipy"
      ]
    },
    {
      "cell_type": "code",
      "execution_count": null,
      "metadata": {
        "id": "WuzIT2VMUpa7"
      },
      "outputs": [],
      "source": [
        "loadedModel=pickle.load(open('/content/research_rf_model_24_inputs.pkl','rb'))"
      ]
    },
    {
      "cell_type": "code",
      "execution_count": null,
      "metadata": {
        "colab": {
          "base_uri": "https://localhost:8080/",
          "height": 206
        },
        "id": "ga6oRM2hU02R",
        "outputId": "33f4bd27-5acb-464b-df4e-eda0c5283208"
      },
      "outputs": [
        {
          "data": {
            "text/html": [
              "\n",
              "  <div id=\"df-e3532bed-fbf6-4a71-b002-40e441189b4e\">\n",
              "    <div class=\"colab-df-container\">\n",
              "      <div>\n",
              "<style scoped>\n",
              "    .dataframe tbody tr th:only-of-type {\n",
              "        vertical-align: middle;\n",
              "    }\n",
              "\n",
              "    .dataframe tbody tr th {\n",
              "        vertical-align: top;\n",
              "    }\n",
              "\n",
              "    .dataframe thead th {\n",
              "        text-align: right;\n",
              "    }\n",
              "</style>\n",
              "<table border=\"1\" class=\"dataframe\">\n",
              "  <thead>\n",
              "    <tr style=\"text-align: right;\">\n",
              "      <th></th>\n",
              "      <th>Molécula</th>\n",
              "      <th>SMILES</th>\n",
              "      <th>logP</th>\n",
              "      <th>Fuente</th>\n",
              "    </tr>\n",
              "  </thead>\n",
              "  <tbody>\n",
              "    <tr>\n",
              "      <th>0</th>\n",
              "      <td>ibuprofeno</td>\n",
              "      <td>CC(CC1=CC=C(C(C(O)=O)C)C=C1)C</td>\n",
              "      <td>3.75</td>\n",
              "      <td>Chemdraw</td>\n",
              "    </tr>\n",
              "    <tr>\n",
              "      <th>1</th>\n",
              "      <td>diclofenaco</td>\n",
              "      <td>OC(CC1=C(NC2=C(Cl)C=CC=C2Cl)C=CC=C1)=O</td>\n",
              "      <td>4.12</td>\n",
              "      <td>Chemdraw</td>\n",
              "    </tr>\n",
              "    <tr>\n",
              "      <th>2</th>\n",
              "      <td>resveratrol</td>\n",
              "      <td>OC1=CC(O)=CC(C=CC2=CC=C(O)C=C2)=C1</td>\n",
              "      <td>3.06</td>\n",
              "      <td>Chemdraw</td>\n",
              "    </tr>\n",
              "    <tr>\n",
              "      <th>3</th>\n",
              "      <td>furosemide</td>\n",
              "      <td>O=C(C1=C(NCC2=CC=CO2)C=C(Cl)C(S(=O)(N)=O)=C1)O</td>\n",
              "      <td>0.74</td>\n",
              "      <td>Chemdraw</td>\n",
              "    </tr>\n",
              "    <tr>\n",
              "      <th>4</th>\n",
              "      <td>fluticasona</td>\n",
              "      <td>C[C@@]12[C@@](C(SCF)=O)([C@@H](C[C@]1([C@@]3(C...</td>\n",
              "      <td>3.12</td>\n",
              "      <td>Chemdraw</td>\n",
              "    </tr>\n",
              "  </tbody>\n",
              "</table>\n",
              "</div>\n",
              "      <button class=\"colab-df-convert\" onclick=\"convertToInteractive('df-e3532bed-fbf6-4a71-b002-40e441189b4e')\"\n",
              "              title=\"Convert this dataframe to an interactive table.\"\n",
              "              style=\"display:none;\">\n",
              "        \n",
              "  <svg xmlns=\"http://www.w3.org/2000/svg\" height=\"24px\"viewBox=\"0 0 24 24\"\n",
              "       width=\"24px\">\n",
              "    <path d=\"M0 0h24v24H0V0z\" fill=\"none\"/>\n",
              "    <path d=\"M18.56 5.44l.94 2.06.94-2.06 2.06-.94-2.06-.94-.94-2.06-.94 2.06-2.06.94zm-11 1L8.5 8.5l.94-2.06 2.06-.94-2.06-.94L8.5 2.5l-.94 2.06-2.06.94zm10 10l.94 2.06.94-2.06 2.06-.94-2.06-.94-.94-2.06-.94 2.06-2.06.94z\"/><path d=\"M17.41 7.96l-1.37-1.37c-.4-.4-.92-.59-1.43-.59-.52 0-1.04.2-1.43.59L10.3 9.45l-7.72 7.72c-.78.78-.78 2.05 0 2.83L4 21.41c.39.39.9.59 1.41.59.51 0 1.02-.2 1.41-.59l7.78-7.78 2.81-2.81c.8-.78.8-2.07 0-2.86zM5.41 20L4 18.59l7.72-7.72 1.47 1.35L5.41 20z\"/>\n",
              "  </svg>\n",
              "      </button>\n",
              "      \n",
              "  <style>\n",
              "    .colab-df-container {\n",
              "      display:flex;\n",
              "      flex-wrap:wrap;\n",
              "      gap: 12px;\n",
              "    }\n",
              "\n",
              "    .colab-df-convert {\n",
              "      background-color: #E8F0FE;\n",
              "      border: none;\n",
              "      border-radius: 50%;\n",
              "      cursor: pointer;\n",
              "      display: none;\n",
              "      fill: #1967D2;\n",
              "      height: 32px;\n",
              "      padding: 0 0 0 0;\n",
              "      width: 32px;\n",
              "    }\n",
              "\n",
              "    .colab-df-convert:hover {\n",
              "      background-color: #E2EBFA;\n",
              "      box-shadow: 0px 1px 2px rgba(60, 64, 67, 0.3), 0px 1px 3px 1px rgba(60, 64, 67, 0.15);\n",
              "      fill: #174EA6;\n",
              "    }\n",
              "\n",
              "    [theme=dark] .colab-df-convert {\n",
              "      background-color: #3B4455;\n",
              "      fill: #D2E3FC;\n",
              "    }\n",
              "\n",
              "    [theme=dark] .colab-df-convert:hover {\n",
              "      background-color: #434B5C;\n",
              "      box-shadow: 0px 1px 3px 1px rgba(0, 0, 0, 0.15);\n",
              "      filter: drop-shadow(0px 1px 2px rgba(0, 0, 0, 0.3));\n",
              "      fill: #FFFFFF;\n",
              "    }\n",
              "  </style>\n",
              "\n",
              "      <script>\n",
              "        const buttonEl =\n",
              "          document.querySelector('#df-e3532bed-fbf6-4a71-b002-40e441189b4e button.colab-df-convert');\n",
              "        buttonEl.style.display =\n",
              "          google.colab.kernel.accessAllowed ? 'block' : 'none';\n",
              "\n",
              "        async function convertToInteractive(key) {\n",
              "          const element = document.querySelector('#df-e3532bed-fbf6-4a71-b002-40e441189b4e');\n",
              "          const dataTable =\n",
              "            await google.colab.kernel.invokeFunction('convertToInteractive',\n",
              "                                                     [key], {});\n",
              "          if (!dataTable) return;\n",
              "\n",
              "          const docLinkHtml = 'Like what you see? Visit the ' +\n",
              "            '<a target=\"_blank\" href=https://colab.research.google.com/notebooks/data_table.ipynb>data table notebook</a>'\n",
              "            + ' to learn more about interactive tables.';\n",
              "          element.innerHTML = '';\n",
              "          dataTable['output_type'] = 'display_data';\n",
              "          await google.colab.output.renderOutput(dataTable, element);\n",
              "          const docLink = document.createElement('div');\n",
              "          docLink.innerHTML = docLinkHtml;\n",
              "          element.appendChild(docLink);\n",
              "        }\n",
              "      </script>\n",
              "    </div>\n",
              "  </div>\n",
              "  "
            ],
            "text/plain": [
              "      Molécula                                             SMILES  logP  \\\n",
              "0   ibuprofeno                      CC(CC1=CC=C(C(C(O)=O)C)C=C1)C  3.75   \n",
              "1  diclofenaco             OC(CC1=C(NC2=C(Cl)C=CC=C2Cl)C=CC=C1)=O  4.12   \n",
              "2  resveratrol                 OC1=CC(O)=CC(C=CC2=CC=C(O)C=C2)=C1  3.06   \n",
              "3   furosemide     O=C(C1=C(NCC2=CC=CO2)C=C(Cl)C(S(=O)(N)=O)=C1)O  0.74   \n",
              "4  fluticasona  C[C@@]12[C@@](C(SCF)=O)([C@@H](C[C@]1([C@@]3(C...  3.12   \n",
              "\n",
              "     Fuente  \n",
              "0  Chemdraw  \n",
              "1  Chemdraw  \n",
              "2  Chemdraw  \n",
              "3  Chemdraw  \n",
              "4  Chemdraw  "
            ]
          },
          "execution_count": 13,
          "metadata": {},
          "output_type": "execute_result"
        }
      ],
      "source": [
        "logP=pd.read_excel('/content/Medicamentos_más_vendidos.xlsx')\n",
        "logP.head()"
      ]
    },
    {
      "cell_type": "code",
      "execution_count": null,
      "metadata": {
        "colab": {
          "base_uri": "https://localhost:8080/"
        },
        "id": "Kb2MZctdVFrO",
        "outputId": "2adfedc7-7796-424c-8f7a-44c1cb829c12"
      },
      "outputs": [
        {
          "name": "stdout",
          "output_type": "stream",
          "text": [
            "<class 'pandas.core.frame.DataFrame'>\n",
            "RangeIndex: 21 entries, 0 to 20\n",
            "Data columns (total 4 columns):\n",
            " #   Column    Non-Null Count  Dtype  \n",
            "---  ------    --------------  -----  \n",
            " 0   Molécula  20 non-null     object \n",
            " 1   SMILES    20 non-null     object \n",
            " 2   logP      21 non-null     float64\n",
            " 3   Fuente    21 non-null     object \n",
            "dtypes: float64(1), object(3)\n",
            "memory usage: 800.0+ bytes\n"
          ]
        }
      ],
      "source": [
        "logP.info()"
      ]
    },
    {
      "cell_type": "code",
      "execution_count": null,
      "metadata": {
        "id": "zNZVT3KXXAH8"
      },
      "outputs": [],
      "source": [
        "logP=logP.dropna()"
      ]
    },
    {
      "cell_type": "code",
      "execution_count": null,
      "metadata": {
        "id": "9bg5BKsrXFDh"
      },
      "outputs": [],
      "source": [
        "mols=[]\n",
        "for i in logP['SMILES']:\n",
        "  mols.append(Chem.MolFromSmiles(i))"
      ]
    },
    {
      "cell_type": "code",
      "execution_count": null,
      "metadata": {
        "id": "g-N4cphyV3aS"
      },
      "outputs": [],
      "source": [
        "logP['mol'] = logP['SMILES'].apply(lambda x: Chem.MolFromSmiles(x)) \n",
        "logP['mol'] = logP['mol'].apply(lambda x: Chem.AddHs(x))\n",
        "def number_of_atoms(atom_list, data):\n",
        "    for i in atom_list:\n",
        "        data['num_of_{}_atoms'.format(i)] = data['mol'].apply(lambda x: len(x.GetSubstructMatches(Chem.MolFromSmiles(i))))\n",
        "\n",
        "number_of_atoms(['C','O', 'N', 'Cl','P','S'], logP)\n",
        "from rdkit.Chem import Descriptors\n",
        "logP['tpsa'] = logP['mol'].apply(lambda x: Descriptors.TPSA(x))\n",
        "logP['mol_w'] = logP['mol'].apply(lambda x: Descriptors.ExactMolWt(x))\n",
        "logP['MaxAbsPartialCharge'] = logP['mol'].apply(lambda x: Descriptors.MaxAbsPartialCharge(x, force=False))\n",
        "logP['MaxPartialCharge'] = logP['mol'].apply(lambda x: Descriptors.MaxPartialCharge(x, force=False))\n",
        "logP['MinAbsPartialCharge'] = logP['mol'].apply(lambda x: Descriptors.MinAbsPartialCharge(x, force=False))\n",
        "logP['MinPartialCharge'] = logP['mol'].apply(lambda x: Descriptors.MinPartialCharge(x, force=False))\n",
        "logP['num_valence_electrons'] = logP['mol'].apply(lambda x: Descriptors.NumValenceElectrons(x))\n",
        "logP['num_heteroatoms'] = logP['mol'].apply(lambda x: Descriptors.NumHeteroatoms(x))\n",
        "logP['Num_Rings']=logP['mol'].apply(lambda x: rdMolDescriptors.CalcNumRings(x))\n",
        "logP['Num_Rotatable_Bonds']=logP['mol'].apply(lambda x: rdMolDescriptors.CalcNumRotatableBonds(x))\n",
        "logP['Num_Saturated_Rings']=logP['mol'].apply(lambda x: rdMolDescriptors.CalcNumSaturatedRings(x))\n",
        "logP['Num_Heterocycles']=logP['mol'].apply(lambda x: rdMolDescriptors.CalcNumHeterocycles(x))\n",
        "logP['Num_Aliphatic_Carbocycles']=logP['mol'].apply(lambda x: rdMolDescriptors.CalcNumAliphaticCarbocycles(x))\n",
        "logP['Num_Aliphatic_Heterocycles']=logP['mol'].apply(lambda x: rdMolDescriptors.CalcNumAliphaticHeterocycles(x))\n",
        "logP['Num_Aliphatic_Rings']=logP['mol'].apply(lambda x: rdMolDescriptors.CalcNumAliphaticRings(x))\n",
        "logP['Num_Amide_Bonds']=logP['mol'].apply(lambda x: rdMolDescriptors.CalcNumAmideBonds(x))\n",
        "logP['Num_Aromatic_Carbocycle']=logP['mol'].apply(lambda x: rdMolDescriptors.CalcNumAromaticCarbocycles(x))\n",
        "logP['Num_Aromatic_Heterocyle']=logP['mol'].apply(lambda x: rdMolDescriptors.CalcNumAromaticHeterocycles(x))\n",
        "logP['Num_Aromatic_rings']=logP['mol'].apply(lambda x: rdMolDescriptors.CalcNumAromaticRings(x))\n",
        "logP['Heterotatoms/C_atoms']=logP['num_heteroatoms']/logP['num_of_C_atoms']\n",
        "logP['H_bonds_donors']=logP['mol'].apply(lambda x: Chem.Lipinski.NumHDonors(x))"
      ]
    },
    {
      "cell_type": "code",
      "execution_count": null,
      "metadata": {
        "colab": {
          "base_uri": "https://localhost:8080/"
        },
        "id": "6pNL_NuqWond",
        "outputId": "e7ac5571-bfa8-4831-a46b-e190e16e189e"
      },
      "outputs": [
        {
          "data": {
            "text/plain": [
              "Index(['Molécula', 'SMILES', 'logP', 'Fuente', 'mol', 'num_of_C_atoms',\n",
              "       'num_of_O_atoms', 'num_of_N_atoms', 'num_of_Cl_atoms', 'num_of_P_atoms',\n",
              "       'num_of_S_atoms', 'tpsa', 'mol_w', 'MaxAbsPartialCharge',\n",
              "       'MaxPartialCharge', 'MinAbsPartialCharge', 'MinPartialCharge',\n",
              "       'num_valence_electrons', 'num_heteroatoms', 'Num_Rings',\n",
              "       'Num_Rotatable_Bonds', 'Num_Saturated_Rings', 'Num_Heterocycles',\n",
              "       'Num_Aliphatic_Carbocycles', 'Num_Aliphatic_Heterocycles',\n",
              "       'Num_Aliphatic_Rings', 'Num_Amide_Bonds', 'Num_Aromatic_Carbocycle',\n",
              "       'Num_Aromatic_Heterocyle', 'Num_Aromatic_rings', 'Heterotatoms/C_atoms',\n",
              "       'H_bonds_donors'],\n",
              "      dtype='object')"
            ]
          },
          "execution_count": 20,
          "metadata": {},
          "output_type": "execute_result"
        }
      ],
      "source": [
        "logP.columns"
      ]
    },
    {
      "cell_type": "code",
      "execution_count": null,
      "metadata": {
        "id": "hgjPwOZ1XZE3"
      },
      "outputs": [],
      "source": [
        "X=logP.drop(columns=['Molécula','SMILES','Fuente','mol','logP'])"
      ]
    },
    {
      "cell_type": "code",
      "execution_count": null,
      "metadata": {
        "id": "Y7m2E61RXoQF"
      },
      "outputs": [],
      "source": [
        "predictions=loadedModel.predict(X)"
      ]
    },
    {
      "cell_type": "code",
      "execution_count": null,
      "metadata": {
        "id": "V11V6C2HaVh0"
      },
      "outputs": [],
      "source": [
        "X['logP_prediction']=predictions"
      ]
    },
    {
      "cell_type": "code",
      "execution_count": null,
      "metadata": {
        "id": "IV8A4U_DctJ3"
      },
      "outputs": [],
      "source": [
        "experimental_logPs=[3.97,4.51,np.NAN,2.03,np.NAN,1.18,0.91,2.23,4.68,-2.6,2.39,np.NAN,0.07,1.34,np.NAN,0.87,1.9,1.4,3.08,2.82]"
      ]
    },
    {
      "cell_type": "code",
      "execution_count": null,
      "metadata": {
        "id": "KRFA0rkDhp45"
      },
      "outputs": [],
      "source": [
        "X['experimental_logp']=experimental_logPs"
      ]
    },
    {
      "cell_type": "code",
      "execution_count": null,
      "metadata": {
        "id": "vsUNLVapbNpA"
      },
      "outputs": [],
      "source": [
        "X['relative_percent_difference']=((X['experimental_logp']-X['logP_prediction'])/(abs(X['logP_prediction'])+abs(X['experimental_logp'])))*2"
      ]
    },
    {
      "cell_type": "code",
      "execution_count": null,
      "metadata": {
        "id": "fPxpcxWLbNdN"
      },
      "outputs": [],
      "source": [
        "X['|relative_percent_difference|']=abs(((X['experimental_logp']-X['logP_prediction'])/(abs(X['logP_prediction'])+abs(X['experimental_logp'])))*2)"
      ]
    },
    {
      "cell_type": "code",
      "execution_count": null,
      "metadata": {
        "id": "f_TGK5pxbNSP"
      },
      "outputs": [],
      "source": [
        "list_rpd=list(X['relative_percent_difference'])\n",
        "list_prediction_class=[]\n",
        "for i in range(len(list_rpd)):\n",
        "  if list_rpd[i]==0:\n",
        "    list_prediction_class.append(1)\n",
        "  elif list_rpd[i]>= -0.3 and list_rpd[i]<= 0.3:\n",
        "    list_prediction_class.append(1)\n",
        "  else:\n",
        "    list_prediction_class.append(0)"
      ]
    },
    {
      "cell_type": "code",
      "execution_count": null,
      "metadata": {
        "id": "c2M0zLgXbNGt"
      },
      "outputs": [],
      "source": [
        "X['prediction_class']=list_prediction_class"
      ]
    },
    {
      "cell_type": "code",
      "execution_count": null,
      "metadata": {
        "colab": {
          "base_uri": "https://localhost:8080/"
        },
        "id": "BOZD1xsmdAO2",
        "outputId": "84d85296-6b6b-4534-b9dc-47372f7b8bea"
      },
      "outputs": [
        {
          "data": {
            "text/plain": [
              "array([ 1.418, -0.009, -1.206, -2.845, -1.171, -0.925, -0.022, -1.008,\n",
              "       -0.786, -1.55 , -0.73 , -1.009, -1.539,  2.002,  0.722, -2.938,\n",
              "       -2.013, -1.456,  0.496,  1.744])"
            ]
          },
          "execution_count": 31,
          "metadata": {},
          "output_type": "execute_result"
        }
      ],
      "source": [
        "predictions"
      ]
    },
    {
      "cell_type": "code",
      "execution_count": null,
      "metadata": {
        "colab": {
          "base_uri": "https://localhost:8080/",
          "height": 896
        },
        "id": "8OshUs6qcHmd",
        "outputId": "323a634d-91ba-44ee-86c2-b94f311754d7"
      },
      "outputs": [
        {
          "name": "stderr",
          "output_type": "stream",
          "text": [
            "/usr/local/lib/python3.7/dist-packages/ipykernel_launcher.py:3: MatplotlibDeprecationWarning: Unrecognized location 'upper-left'. Falling back on 'best'; valid locations are\n",
            "\tbest\n",
            "\tupper right\n",
            "\tupper left\n",
            "\tlower left\n",
            "\tlower right\n",
            "\tright\n",
            "\tcenter left\n",
            "\tcenter right\n",
            "\tlower center\n",
            "\tupper center\n",
            "\tcenter\n",
            "This will raise an exception in 3.3.\n",
            "  This is separate from the ipykernel package so we can avoid doing imports until\n"
          ]
        },
        {
          "data": {
            "image/png": "[encoded data removed]",
            "text/plain": [
              "<Figure size 720x720 with 1 Axes>"
            ]
          },
          "metadata": {},
          "output_type": "display_data"
        }
      ],
      "source": [
        "plt.figure(figsize=(10,10))\n",
        "sns.scatterplot(x='experimental_logp',y='logP_prediction',data= X,hue='prediction_class',size='relative_percent_difference',sizes=(50,130))\n",
        "plt.legend(loc='upper-left',prop={'size':10},fancybox=True,title='Prediction Class')\n",
        "sns.set(font_scale=2)\n",
        "sns.set_style('darkgrid')\n",
        "plt.show()"
      ]
    },
    {
      "cell_type": "code",
      "execution_count": null,
      "metadata": {
        "id": "002GMj3i7yzu"
      },
      "outputs": [],
      "source": [
        "predictionsDf=X[['logP_prediction','experimental_logp']]"
      ]
    },
    {
      "cell_type": "code",
      "execution_count": null,
      "metadata": {
        "id": "u_9nrm4E8GFc"
      },
      "outputs": [],
      "source": [
        "molecules_list=logP['Molécula']"
      ]
    },
    {
      "cell_type": "code",
      "execution_count": null,
      "metadata": {
        "colab": {
          "base_uri": "https://localhost:8080/"
        },
        "id": "YWr4ZTcT8ckU",
        "outputId": "cf444568-d573-450a-dc2a-745b82005ada"
      },
      "outputs": [
        {
          "name": "stderr",
          "output_type": "stream",
          "text": [
            "/usr/local/lib/python3.7/dist-packages/ipykernel_launcher.py:1: SettingWithCopyWarning: \n",
            "A value is trying to be set on a copy of a slice from a DataFrame.\n",
            "Try using .loc[row_indexer,col_indexer] = value instead\n",
            "\n",
            "See the caveats in the documentation: https://pandas.pydata.org/pandas-docs/stable/user_guide/indexing.html#returning-a-view-versus-a-copy\n",
            "  \"\"\"Entry point for launching an IPython kernel.\n"
          ]
        }
      ],
      "source": [
        "predictionsDf['Molecules']=molecules_list"
      ]
    },
    {
      "cell_type": "code",
      "execution_count": null,
      "metadata": {
        "id": "LWrs5zJh8lw9"
      },
      "outputs": [],
      "source": [
        "predictionsDf=predictionsDf.dropna()"
      ]
    },
    {
      "cell_type": "code",
      "execution_count": null,
      "metadata": {
        "id": "8plMVR4Y8yIL"
      },
      "outputs": [],
      "source": [
        "predictionsDf.to_excel('predictionsDf.xlsx',index=False)"
      ]
    },
    {
      "cell_type": "code",
      "execution_count": null,
      "metadata": {
        "colab": {
          "base_uri": "https://localhost:8080/"
        },
        "id": "ap9Z8o-C-_bY",
        "outputId": "28d2c5fe-6f42-4caf-f59d-5d83a488dbe2"
      },
      "outputs": [
        {
          "data": {
            "text/plain": [
              "9.751822812499995"
            ]
          },
          "execution_count": 50,
          "metadata": {},
          "output_type": "execute_result"
        }
      ],
      "source": [
        "((predictionsDf['logP_prediction'] - predictionsDf['experimental_logp'])**2).mean(axis=None)"
      ]
    }
  ],
  "metadata": {
    "colab": {
      "name": "model_testing_logP.ipynb",
      "provenance": []
    },
    "kernelspec": {
      "display_name": "Python 3",
      "name": "python3"
    },
    "language_info": {
      "name": "python"
    }
  },
  "nbformat": 4,
  "nbformat_minor": 0
}