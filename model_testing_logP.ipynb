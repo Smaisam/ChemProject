{
  "nbformat": 4,
  "nbformat_minor": 0,
  "metadata": {
    "colab": {
      "name": "model_testing_logP.ipynb",
      "provenance": []
    },
    "kernelspec": {
      "name": "python3",
      "display_name": "Python 3"
    },
    "language_info": {
      "name": "python"
    }
  },
  "cells": [
    {
      "cell_type": "code",
      "source": [
        "!pip install rdkit-pypi"
      ],
      "metadata": {
        "colab": {
          "base_uri": "https://localhost:8080/"
        },
        "id": "r8Sn7h9dVfZC",
        "outputId": "7930cd0e-dd8e-42a9-f4da-4c8f4e46d9d2"
      },
      "execution_count": null,
      "outputs": [
        {
          "output_type": "stream",
          "name": "stdout",
          "text": [
            "Looking in indexes: https://pypi.org/simple, https://us-python.pkg.dev/colab-wheels/public/simple/\n",
            "Collecting rdkit-pypi\n",
            "  Downloading rdkit_pypi-2022.3.5-cp37-cp37m-manylinux_2_17_x86_64.manylinux2014_x86_64.whl (36.8 MB)\n",
            "\u001b[K     |████████████████████████████████| 36.8 MB 22 kB/s \n",
            "\u001b[?25hRequirement already satisfied: Pillow in /usr/local/lib/python3.7/dist-packages (from rdkit-pypi) (7.1.2)\n",
            "Requirement already satisfied: numpy in /usr/local/lib/python3.7/dist-packages (from rdkit-pypi) (1.21.6)\n",
            "Installing collected packages: rdkit-pypi\n",
            "Successfully installed rdkit-pypi-2022.3.5\n"
          ]
        }
      ]
    },
    {
      "cell_type": "code",
      "execution_count": null,
      "metadata": {
        "id": "GWEmrCDaSp-n"
      },
      "outputs": [],
      "source": [
        "import numpy as np\n",
        "import pandas as pd\n",
        "import matplotlib.pyplot as plt\n",
        "import seaborn as sns\n",
        "import pickle\n",
        "from rdkit import Chem\n",
        "from rdkit.Chem import Draw\n",
        "from rdkit.Chem.Draw import IPythonConsole\n",
        "from sklearn import svm\n",
        "from sklearn.metrics import mean_squared_error\n",
        "from sklearn import preprocessing\n",
        "from rdkit.Chem import rdMolDescriptors\n",
        "from rdkit.Chem import Descriptors3D\n",
        "from rdkit.Chem import Lipinski\n",
        "from rdkit.Chem import EnumerateHeterocycles\n",
        "from rdkit.Chem import Fragments\n",
        "import scipy"
      ]
    },
    {
      "cell_type": "code",
      "source": [
        "loadedModel=pickle.load(open('/content/research_rf_model_24_inputs.pkl','rb'))"
      ],
      "metadata": {
        "id": "WuzIT2VMUpa7"
      },
      "execution_count": null,
      "outputs": []
    },
    {
      "cell_type": "code",
      "source": [
        "drugsTest=pd.read_excel('/content/Medicamentos_más_vendidos.xlsx')\n",
        "drugsTest.head()"
      ],
      "metadata": {
        "colab": {
          "base_uri": "https://localhost:8080/",
          "height": 204
        },
        "id": "ga6oRM2hU02R",
        "outputId": "8340733b-799d-400c-9e05-829c606f425a"
      },
      "execution_count": null,
      "outputs": [
        {
          "output_type": "execute_result",
          "data": {
            "text/plain": [
              "      Molécula                                             SMILES  logP  \\\n",
              "0   ibuprofeno                      CC(CC1=CC=C(C(C(O)=O)C)C=C1)C  3.75   \n",
              "1  diclofenaco             OC(CC1=C(NC2=C(Cl)C=CC=C2Cl)C=CC=C1)=O  4.12   \n",
              "2  resveratrol                 OC1=CC(O)=CC(C=CC2=CC=C(O)C=C2)=C1  3.06   \n",
              "3   furosemide     O=C(C1=C(NCC2=CC=CO2)C=C(Cl)C(S(=O)(N)=O)=C1)O  0.74   \n",
              "4  fluticasona  C[C@@]12[C@@](C(SCF)=O)([C@@H](C[C@]1([C@@]3(C...  3.12   \n",
              "\n",
              "     Fuente  \n",
              "0  Chemdraw  \n",
              "1  Chemdraw  \n",
              "2  Chemdraw  \n",
              "3  Chemdraw  \n",
              "4  Chemdraw  "
            ],
            "text/html": [
              "\n",
              "  <div id=\"df-c63a4b1a-35e4-40f0-9ae4-67be20dd3a15\">\n",
              "    <div class=\"colab-df-container\">\n",
              "      <div>\n",
              "<style scoped>\n",
              "    .dataframe tbody tr th:only-of-type {\n",
              "        vertical-align: middle;\n",
              "    }\n",
              "\n",
              "    .dataframe tbody tr th {\n",
              "        vertical-align: top;\n",
              "    }\n",
              "\n",
              "    .dataframe thead th {\n",
              "        text-align: right;\n",
              "    }\n",
              "</style>\n",
              "<table border=\"1\" class=\"dataframe\">\n",
              "  <thead>\n",
              "    <tr style=\"text-align: right;\">\n",
              "      <th></th>\n",
              "      <th>Molécula</th>\n",
              "      <th>SMILES</th>\n",
              "      <th>logP</th>\n",
              "      <th>Fuente</th>\n",
              "    </tr>\n",
              "  </thead>\n",
              "  <tbody>\n",
              "    <tr>\n",
              "      <th>0</th>\n",
              "      <td>ibuprofeno</td>\n",
              "      <td>CC(CC1=CC=C(C(C(O)=O)C)C=C1)C</td>\n",
              "      <td>3.75</td>\n",
              "      <td>Chemdraw</td>\n",
              "    </tr>\n",
              "    <tr>\n",
              "      <th>1</th>\n",
              "      <td>diclofenaco</td>\n",
              "      <td>OC(CC1=C(NC2=C(Cl)C=CC=C2Cl)C=CC=C1)=O</td>\n",
              "      <td>4.12</td>\n",
              "      <td>Chemdraw</td>\n",
              "    </tr>\n",
              "    <tr>\n",
              "      <th>2</th>\n",
              "      <td>resveratrol</td>\n",
              "      <td>OC1=CC(O)=CC(C=CC2=CC=C(O)C=C2)=C1</td>\n",
              "      <td>3.06</td>\n",
              "      <td>Chemdraw</td>\n",
              "    </tr>\n",
              "    <tr>\n",
              "      <th>3</th>\n",
              "      <td>furosemide</td>\n",
              "      <td>O=C(C1=C(NCC2=CC=CO2)C=C(Cl)C(S(=O)(N)=O)=C1)O</td>\n",
              "      <td>0.74</td>\n",
              "      <td>Chemdraw</td>\n",
              "    </tr>\n",
              "    <tr>\n",
              "      <th>4</th>\n",
              "      <td>fluticasona</td>\n",
              "      <td>C[C@@]12[C@@](C(SCF)=O)([C@@H](C[C@]1([C@@]3(C...</td>\n",
              "      <td>3.12</td>\n",
              "      <td>Chemdraw</td>\n",
              "    </tr>\n",
              "  </tbody>\n",
              "</table>\n",
              "</div>\n",
              "      <button class=\"colab-df-convert\" onclick=\"convertToInteractive('df-c63a4b1a-35e4-40f0-9ae4-67be20dd3a15')\"\n",
              "              title=\"Convert this dataframe to an interactive table.\"\n",
              "              style=\"display:none;\">\n",
              "        \n",
              "  <svg xmlns=\"http://www.w3.org/2000/svg\" height=\"24px\"viewBox=\"0 0 24 24\"\n",
              "       width=\"24px\">\n",
              "    <path d=\"M0 0h24v24H0V0z\" fill=\"none\"/>\n",
              "    <path d=\"M18.56 5.44l.94 2.06.94-2.06 2.06-.94-2.06-.94-.94-2.06-.94 2.06-2.06.94zm-11 1L8.5 8.5l.94-2.06 2.06-.94-2.06-.94L8.5 2.5l-.94 2.06-2.06.94zm10 10l.94 2.06.94-2.06 2.06-.94-2.06-.94-.94-2.06-.94 2.06-2.06.94z\"/><path d=\"M17.41 7.96l-1.37-1.37c-.4-.4-.92-.59-1.43-.59-.52 0-1.04.2-1.43.59L10.3 9.45l-7.72 7.72c-.78.78-.78 2.05 0 2.83L4 21.41c.39.39.9.59 1.41.59.51 0 1.02-.2 1.41-.59l7.78-7.78 2.81-2.81c.8-.78.8-2.07 0-2.86zM5.41 20L4 18.59l7.72-7.72 1.47 1.35L5.41 20z\"/>\n",
              "  </svg>\n",
              "      </button>\n",
              "      \n",
              "  <style>\n",
              "    .colab-df-container {\n",
              "      display:flex;\n",
              "      flex-wrap:wrap;\n",
              "      gap: 12px;\n",
              "    }\n",
              "\n",
              "    .colab-df-convert {\n",
              "      background-color: #E8F0FE;\n",
              "      border: none;\n",
              "      border-radius: 50%;\n",
              "      cursor: pointer;\n",
              "      display: none;\n",
              "      fill: #1967D2;\n",
              "      height: 32px;\n",
              "      padding: 0 0 0 0;\n",
              "      width: 32px;\n",
              "    }\n",
              "\n",
              "    .colab-df-convert:hover {\n",
              "      background-color: #E2EBFA;\n",
              "      box-shadow: 0px 1px 2px rgba(60, 64, 67, 0.3), 0px 1px 3px 1px rgba(60, 64, 67, 0.15);\n",
              "      fill: #174EA6;\n",
              "    }\n",
              "\n",
              "    [theme=dark] .colab-df-convert {\n",
              "      background-color: #3B4455;\n",
              "      fill: #D2E3FC;\n",
              "    }\n",
              "\n",
              "    [theme=dark] .colab-df-convert:hover {\n",
              "      background-color: #434B5C;\n",
              "      box-shadow: 0px 1px 3px 1px rgba(0, 0, 0, 0.15);\n",
              "      filter: drop-shadow(0px 1px 2px rgba(0, 0, 0, 0.3));\n",
              "      fill: #FFFFFF;\n",
              "    }\n",
              "  </style>\n",
              "\n",
              "      <script>\n",
              "        const buttonEl =\n",
              "          document.querySelector('#df-c63a4b1a-35e4-40f0-9ae4-67be20dd3a15 button.colab-df-convert');\n",
              "        buttonEl.style.display =\n",
              "          google.colab.kernel.accessAllowed ? 'block' : 'none';\n",
              "\n",
              "        async function convertToInteractive(key) {\n",
              "          const element = document.querySelector('#df-c63a4b1a-35e4-40f0-9ae4-67be20dd3a15');\n",
              "          const dataTable =\n",
              "            await google.colab.kernel.invokeFunction('convertToInteractive',\n",
              "                                                     [key], {});\n",
              "          if (!dataTable) return;\n",
              "\n",
              "          const docLinkHtml = 'Like what you see? Visit the ' +\n",
              "            '<a target=\"_blank\" href=https://colab.research.google.com/notebooks/data_table.ipynb>data table notebook</a>'\n",
              "            + ' to learn more about interactive tables.';\n",
              "          element.innerHTML = '';\n",
              "          dataTable['output_type'] = 'display_data';\n",
              "          await google.colab.output.renderOutput(dataTable, element);\n",
              "          const docLink = document.createElement('div');\n",
              "          docLink.innerHTML = docLinkHtml;\n",
              "          element.appendChild(docLink);\n",
              "        }\n",
              "      </script>\n",
              "    </div>\n",
              "  </div>\n",
              "  "
            ]
          },
          "metadata": {},
          "execution_count": 4
        }
      ]
    },
    {
      "cell_type": "code",
      "source": [
        "drugsTest.info()"
      ],
      "metadata": {
        "colab": {
          "base_uri": "https://localhost:8080/"
        },
        "id": "Kb2MZctdVFrO",
        "outputId": "37d72f50-1cf7-442e-f6fb-5b5c8c0ebf93"
      },
      "execution_count": null,
      "outputs": [
        {
          "output_type": "stream",
          "name": "stdout",
          "text": [
            "<class 'pandas.core.frame.DataFrame'>\n",
            "RangeIndex: 21 entries, 0 to 20\n",
            "Data columns (total 4 columns):\n",
            " #   Column    Non-Null Count  Dtype  \n",
            "---  ------    --------------  -----  \n",
            " 0   Molécula  20 non-null     object \n",
            " 1   SMILES    20 non-null     object \n",
            " 2   logP      21 non-null     float64\n",
            " 3   Fuente    21 non-null     object \n",
            "dtypes: float64(1), object(3)\n",
            "memory usage: 800.0+ bytes\n"
          ]
        }
      ]
    },
    {
      "cell_type": "code",
      "source": [
        "drugsTest=drugsTest.dropna()"
      ],
      "metadata": {
        "id": "zNZVT3KXXAH8"
      },
      "execution_count": null,
      "outputs": []
    },
    {
      "cell_type": "code",
      "source": [
        "mols=[]\n",
        "for i in drugsTest['SMILES']:\n",
        "  mols.append(Chem.MolFromSmiles(i))"
      ],
      "metadata": {
        "id": "9bg5BKsrXFDh"
      },
      "execution_count": null,
      "outputs": []
    },
    {
      "cell_type": "code",
      "source": [
        "drugsTest['mol']=mols\n",
        "drugsTest['mol'] = drugsTest['mol'].apply(lambda x: Chem.AddHs(x))\n",
        "def number_of_atoms(atom_list, data):\n",
        "    for i in atom_list:\n",
        "        data['num_of_{}_atoms'.format(i)] = data['mol'].apply(lambda x: len(x.GetSubstructMatches(Chem.MolFromSmiles(i))))\n",
        "\n",
        "number_of_atoms(['C','O', 'N', 'Cl','P','S'], drugsTest)\n",
        "from rdkit.Chem import Descriptors\n",
        "drugsTest['tpsa'] = drugsTest['mol'].apply(lambda x: Descriptors.TPSA(x))\n",
        "drugsTest['mol_w'] =drugsTest['mol'].apply(lambda x: Descriptors.ExactMolWt(x))\n",
        "drugsTest['MaxAbsPartialCharge'] = drugsTest['mol'].apply(lambda x: Descriptors.MaxAbsPartialCharge(x, force=False))\n",
        "drugsTest['MaxPartialCharge'] = drugsTest['mol'].apply(lambda x: Descriptors.MaxPartialCharge(x, force=False))\n",
        "drugsTest['MinAbsPartialCharge'] = drugsTest['mol'].apply(lambda x: Descriptors.MinAbsPartialCharge(x, force=False))\n",
        "drugsTest['MinPartialCharge'] = drugsTest['mol'].apply(lambda x: Descriptors.MinPartialCharge(x, force=False))\n",
        "drugsTest['num_valence_electrons'] = drugsTest['mol'].apply(lambda x: Descriptors.NumValenceElectrons(x))\n",
        "drugsTest['num_heteroatoms'] = drugsTest['mol'].apply(lambda x: Descriptors.NumHeteroatoms(x))\n",
        "drugsTest['Num_Rings']=drugsTest['mol'].apply(lambda x: rdMolDescriptors.CalcNumRings(x))\n",
        "drugsTest['Num_Rotatable_Bonds']=drugsTest['mol'].apply(lambda x: rdMolDescriptors.CalcNumRotatableBonds(x))\n",
        "drugsTest['Num_Saturated_Rings']=drugsTest['mol'].apply(lambda x: rdMolDescriptors.CalcNumSaturatedRings(x))\n",
        "drugsTest['Num_Spiro_Atoms']=drugsTest['mol'].apply(lambda x: rdMolDescriptors.CalcNumSpiroAtoms(x))\n",
        "drugsTest['Num_Heterocycles']=drugsTest['mol'].apply(lambda x: rdMolDescriptors.CalcNumHeterocycles(x))\n",
        "drugsTest['Num_Aliphatic_Carbocycles']=drugsTest['mol'].apply(lambda x: rdMolDescriptors.CalcNumAliphaticCarbocycles(x))\n",
        "drugsTest['Num_Aliphatic_Heterocycles']=drugsTest['mol'].apply(lambda x: rdMolDescriptors.CalcNumAliphaticHeterocycles(x))\n",
        "drugsTest['Num_Aliphatic_Rings']=drugsTest['mol'].apply(lambda x: rdMolDescriptors.CalcNumAliphaticRings(x))\n",
        "drugsTest['Num_Amide_Bonds']=drugsTest['mol'].apply(lambda x: rdMolDescriptors.CalcNumAmideBonds(x))\n",
        "drugsTest['Num_Aromatic_Carbocycle']=drugsTest['mol'].apply(lambda x: rdMolDescriptors.CalcNumAromaticCarbocycles(x))\n",
        "drugsTest['Num_Aromatic_Heterocyle']=drugsTest['mol'].apply(lambda x: rdMolDescriptors.CalcNumAromaticHeterocycles(x))\n",
        "drugsTest['Num_Aromatic_rings']=drugsTest['mol'].apply(lambda x: rdMolDescriptors.CalcNumAromaticRings(x))\n",
        "drugsTest['Heterotatoms/C_atoms']=drugsTest['num_heteroatoms']/drugsTest['num_of_C_atoms']"
      ],
      "metadata": {
        "id": "g-N4cphyV3aS"
      },
      "execution_count": null,
      "outputs": []
    },
    {
      "cell_type": "code",
      "source": [
        "drugsTest.columns"
      ],
      "metadata": {
        "colab": {
          "base_uri": "https://localhost:8080/"
        },
        "id": "6pNL_NuqWond",
        "outputId": "e33fbf84-3fc8-41d0-ff06-a6aae9af8b68"
      },
      "execution_count": null,
      "outputs": [
        {
          "output_type": "execute_result",
          "data": {
            "text/plain": [
              "Index(['Molécula', 'SMILES', 'logP', 'Fuente', 'mol', 'num_of_C_atoms',\n",
              "       'num_of_O_atoms', 'num_of_N_atoms', 'num_of_Cl_atoms', 'num_of_P_atoms',\n",
              "       'num_of_S_atoms', 'tpsa', 'mol_w', 'MaxAbsPartialCharge',\n",
              "       'MaxPartialCharge', 'MinAbsPartialCharge', 'MinPartialCharge',\n",
              "       'num_valence_electrons', 'num_heteroatoms', 'Num_Rings',\n",
              "       'Num_Rotatable_Bonds', 'Num_Saturated_Rings', 'Num_Spiro_Atoms',\n",
              "       'Num_Heterocycles', 'Num_Aliphatic_Carbocycles',\n",
              "       'Num_Aliphatic_Heterocycles', 'Num_Aliphatic_Rings', 'Num_Amide_Bonds',\n",
              "       'Num_Aromatic_Carbocycle', 'Num_Aromatic_Heterocyle',\n",
              "       'Num_Aromatic_rings', 'Heterotatoms/C_atoms'],\n",
              "      dtype='object')"
            ]
          },
          "metadata": {},
          "execution_count": 11
        }
      ]
    },
    {
      "cell_type": "code",
      "source": [
        "X=drugsTest.drop(columns=['Molécula','SMILES','Fuente','mol','logP'])\n",
        "y=drugsTest['logP']"
      ],
      "metadata": {
        "id": "hgjPwOZ1XZE3"
      },
      "execution_count": null,
      "outputs": []
    },
    {
      "cell_type": "code",
      "source": [
        "predictions=loadedModel.predict(X)"
      ],
      "metadata": {
        "id": "Y7m2E61RXoQF"
      },
      "execution_count": null,
      "outputs": []
    },
    {
      "cell_type": "code",
      "source": [
        "X['logP_prediction']=predictions"
      ],
      "metadata": {
        "id": "V11V6C2HaVh0"
      },
      "execution_count": null,
      "outputs": []
    },
    {
      "cell_type": "code",
      "source": [
        "experimental_logPs=[3.97,4.51,np.NAN,2.03,np.NAN,1.18,0.91,2.23,4.68,-2.6,2.39,np.NAN,0.07,1.34,np.NAN,0.87,1.9,1.4,3.08,2.82]"
      ],
      "metadata": {
        "id": "IV8A4U_DctJ3"
      },
      "execution_count": null,
      "outputs": []
    },
    {
      "cell_type": "code",
      "source": [
        "X['experimental_logp']=experimental_logPs"
      ],
      "metadata": {
        "id": "KRFA0rkDhp45"
      },
      "execution_count": null,
      "outputs": []
    },
    {
      "cell_type": "code",
      "source": [
        "X['relative_percent_difference']=((X['experimental_logp']-X['logP_prediction'])/(abs(X['logP_prediction'])+abs(X['experimental_logp'])))*2"
      ],
      "metadata": {
        "id": "vsUNLVapbNpA"
      },
      "execution_count": null,
      "outputs": []
    },
    {
      "cell_type": "code",
      "source": [
        "X['|relative_percent_difference|']=abs(((X['experimental_logp']-X['logP_prediction'])/(abs(X['logP_prediction'])+abs(X['experimental_logp'])))*2)"
      ],
      "metadata": {
        "id": "fPxpcxWLbNdN"
      },
      "execution_count": null,
      "outputs": []
    },
    {
      "cell_type": "code",
      "source": [
        "list_rpd=list(X['relative_percent_difference'])\n",
        "list_prediction_class=[]\n",
        "for i in range(len(list_rpd)):\n",
        "  if list_rpd[i]==0:\n",
        "    list_prediction_class.append(1)\n",
        "  elif list_rpd[i]>= -0.3 and list_rpd[i]<= 0.3:\n",
        "    list_prediction_class.append(1)\n",
        "  else:\n",
        "    list_prediction_class.append(0)"
      ],
      "metadata": {
        "id": "f_TGK5pxbNSP"
      },
      "execution_count": null,
      "outputs": []
    },
    {
      "cell_type": "code",
      "source": [
        "X['prediction_class']=list_prediction_class"
      ],
      "metadata": {
        "id": "c2M0zLgXbNGt"
      },
      "execution_count": null,
      "outputs": []
    },
    {
      "cell_type": "code",
      "source": [
        "predictions"
      ],
      "metadata": {
        "colab": {
          "base_uri": "https://localhost:8080/"
        },
        "id": "BOZD1xsmdAO2",
        "outputId": "d9779fc5-7451-40c2-c016-39c164a9b259"
      },
      "execution_count": null,
      "outputs": [
        {
          "output_type": "execute_result",
          "data": {
            "text/plain": [
              "array([ 1.32 ,  0.028, -1.303, -2.94 , -1.827, -1.149, -0.055, -1.623,\n",
              "       -1.392, -1.761, -0.935, -1.725, -2.192,  1.782,  0.562, -2.935,\n",
              "       -2.94 , -1.554,  0.375,  1.879])"
            ]
          },
          "metadata": {},
          "execution_count": 32
        }
      ]
    },
    {
      "cell_type": "code",
      "source": [
        "plt.figure(figsize=(10,10))\n",
        "sns.scatterplot(x='experimental_logp',y='logP_prediction',data= X,hue='prediction_class',size='relative_percent_difference',sizes=(50,130))\n",
        "plt.legend(loc='upper-left',prop={'size':10},fancybox=True,title='Prediction Class')\n",
        "sns.set(font_scale=2)\n",
        "sns.set_style('darkgrid')\n",
        "plt.show()"
      ],
      "metadata": {
        "colab": {
          "base_uri": "https://localhost:8080/",
          "height": 891
        },
        "id": "8OshUs6qcHmd",
        "outputId": "be67a471-65e0-4e90-b4c0-12cd17f3cc29"
      },
      "execution_count": null,
      "outputs": [
        {
          "output_type": "stream",
          "name": "stderr",
          "text": [
            "/usr/local/lib/python3.7/dist-packages/ipykernel_launcher.py:3: MatplotlibDeprecationWarning: Unrecognized location 'upper-left'. Falling back on 'best'; valid locations are\n",
            "\tbest\n",
            "\tupper right\n",
            "\tupper left\n",
            "\tlower left\n",
            "\tlower right\n",
            "\tright\n",
            "\tcenter left\n",
            "\tcenter right\n",
            "\tlower center\n",
            "\tupper center\n",
            "\tcenter\n",
            "This will raise an exception in 3.3.\n",
            "  This is separate from the ipykernel package so we can avoid doing imports until\n"
          ]
        },
        {
          "output_type": "display_data",
          "data": {
            "text/plain": [
              "<Figure size 720x720 with 1 Axes>"
            ],
            "image/png": "[encoded data removed]"
          },
          "metadata": {}
        }
      ]
    },
    {
      "cell_type": "code",
      "source": [
        "#predictionsDf=predictionsDf.drop(columns='logP_predictions')\n",
        "predictionsDf.columns=['molecule','experimental_logP','logP_prediction']\n",
        "predictionsDf.reset_index(drop=True)"
      ],
      "metadata": {
        "colab": {
          "base_uri": "https://localhost:8080/",
          "height": 669
        },
        "id": "KjcPgn2YiNmw",
        "outputId": "dcdbf9f4-f0c5-4457-a709-b9197300b04d"
      },
      "execution_count": null,
      "outputs": [
        {
          "output_type": "execute_result",
          "data": {
            "text/plain": [
              "                   molecule  experimental_logP  logP_prediction\n",
              "0                ibuprofeno               3.97            1.320\n",
              "1               diclofenaco               4.51            0.028\n",
              "2               resveratrol                NaN           -1.303\n",
              "3                furosemide               2.03           -2.940\n",
              "4               fluticasona                NaN           -1.827\n",
              "5   ácido acetil salicílico               1.18           -1.149\n",
              "6               paracetamol               0.91           -0.055\n",
              "7                 omeprazol               2.23           -1.623\n",
              "8              simvastatina               4.68           -1.392\n",
              "9                metformina              -2.60           -1.761\n",
              "10                lorazepam               2.39           -0.935\n",
              "11         metamizol sódico                NaN           -1.725\n",
              "12                enalapril               0.07           -2.192\n",
              "13                 tramadol               1.34            1.782\n",
              "14               alprazolam                NaN            0.562\n",
              "15              amoxicilina               0.87           -2.935\n",
              "16               sildenafil               1.90           -2.940\n",
              "17               salbutamol               1.40           -1.554\n",
              "18             drospirenona               3.08            0.375\n",
              "19                 diazepam               2.82            1.879"
            ],
            "text/html": [
              "\n",
              "  <div id=\"df-f7e23b61-9b0f-4dd6-b2d0-e827f8606e27\">\n",
              "    <div class=\"colab-df-container\">\n",
              "      <div>\n",
              "<style scoped>\n",
              "    .dataframe tbody tr th:only-of-type {\n",
              "        vertical-align: middle;\n",
              "    }\n",
              "\n",
              "    .dataframe tbody tr th {\n",
              "        vertical-align: top;\n",
              "    }\n",
              "\n",
              "    .dataframe thead th {\n",
              "        text-align: right;\n",
              "    }\n",
              "</style>\n",
              "<table border=\"1\" class=\"dataframe\">\n",
              "  <thead>\n",
              "    <tr style=\"text-align: right;\">\n",
              "      <th></th>\n",
              "      <th>molecule</th>\n",
              "      <th>experimental_logP</th>\n",
              "      <th>logP_prediction</th>\n",
              "    </tr>\n",
              "  </thead>\n",
              "  <tbody>\n",
              "    <tr>\n",
              "      <th>0</th>\n",
              "      <td>ibuprofeno</td>\n",
              "      <td>3.97</td>\n",
              "      <td>1.320</td>\n",
              "    </tr>\n",
              "    <tr>\n",
              "      <th>1</th>\n",
              "      <td>diclofenaco</td>\n",
              "      <td>4.51</td>\n",
              "      <td>0.028</td>\n",
              "    </tr>\n",
              "    <tr>\n",
              "      <th>2</th>\n",
              "      <td>resveratrol</td>\n",
              "      <td>NaN</td>\n",
              "      <td>-1.303</td>\n",
              "    </tr>\n",
              "    <tr>\n",
              "      <th>3</th>\n",
              "      <td>furosemide</td>\n",
              "      <td>2.03</td>\n",
              "      <td>-2.940</td>\n",
              "    </tr>\n",
              "    <tr>\n",
              "      <th>4</th>\n",
              "      <td>fluticasona</td>\n",
              "      <td>NaN</td>\n",
              "      <td>-1.827</td>\n",
              "    </tr>\n",
              "    <tr>\n",
              "      <th>5</th>\n",
              "      <td>ácido acetil salicílico</td>\n",
              "      <td>1.18</td>\n",
              "      <td>-1.149</td>\n",
              "    </tr>\n",
              "    <tr>\n",
              "      <th>6</th>\n",
              "      <td>paracetamol</td>\n",
              "      <td>0.91</td>\n",
              "      <td>-0.055</td>\n",
              "    </tr>\n",
              "    <tr>\n",
              "      <th>7</th>\n",
              "      <td>omeprazol</td>\n",
              "      <td>2.23</td>\n",
              "      <td>-1.623</td>\n",
              "    </tr>\n",
              "    <tr>\n",
              "      <th>8</th>\n",
              "      <td>simvastatina</td>\n",
              "      <td>4.68</td>\n",
              "      <td>-1.392</td>\n",
              "    </tr>\n",
              "    <tr>\n",
              "      <th>9</th>\n",
              "      <td>metformina</td>\n",
              "      <td>-2.60</td>\n",
              "      <td>-1.761</td>\n",
              "    </tr>\n",
              "    <tr>\n",
              "      <th>10</th>\n",
              "      <td>lorazepam</td>\n",
              "      <td>2.39</td>\n",
              "      <td>-0.935</td>\n",
              "    </tr>\n",
              "    <tr>\n",
              "      <th>11</th>\n",
              "      <td>metamizol sódico</td>\n",
              "      <td>NaN</td>\n",
              "      <td>-1.725</td>\n",
              "    </tr>\n",
              "    <tr>\n",
              "      <th>12</th>\n",
              "      <td>enalapril</td>\n",
              "      <td>0.07</td>\n",
              "      <td>-2.192</td>\n",
              "    </tr>\n",
              "    <tr>\n",
              "      <th>13</th>\n",
              "      <td>tramadol</td>\n",
              "      <td>1.34</td>\n",
              "      <td>1.782</td>\n",
              "    </tr>\n",
              "    <tr>\n",
              "      <th>14</th>\n",
              "      <td>alprazolam</td>\n",
              "      <td>NaN</td>\n",
              "      <td>0.562</td>\n",
              "    </tr>\n",
              "    <tr>\n",
              "      <th>15</th>\n",
              "      <td>amoxicilina</td>\n",
              "      <td>0.87</td>\n",
              "      <td>-2.935</td>\n",
              "    </tr>\n",
              "    <tr>\n",
              "      <th>16</th>\n",
              "      <td>sildenafil</td>\n",
              "      <td>1.90</td>\n",
              "      <td>-2.940</td>\n",
              "    </tr>\n",
              "    <tr>\n",
              "      <th>17</th>\n",
              "      <td>salbutamol</td>\n",
              "      <td>1.40</td>\n",
              "      <td>-1.554</td>\n",
              "    </tr>\n",
              "    <tr>\n",
              "      <th>18</th>\n",
              "      <td>drospirenona</td>\n",
              "      <td>3.08</td>\n",
              "      <td>0.375</td>\n",
              "    </tr>\n",
              "    <tr>\n",
              "      <th>19</th>\n",
              "      <td>diazepam</td>\n",
              "      <td>2.82</td>\n",
              "      <td>1.879</td>\n",
              "    </tr>\n",
              "  </tbody>\n",
              "</table>\n",
              "</div>\n",
              "      <button class=\"colab-df-convert\" onclick=\"convertToInteractive('df-f7e23b61-9b0f-4dd6-b2d0-e827f8606e27')\"\n",
              "              title=\"Convert this dataframe to an interactive table.\"\n",
              "              style=\"display:none;\">\n",
              "        \n",
              "  <svg xmlns=\"http://www.w3.org/2000/svg\" height=\"24px\"viewBox=\"0 0 24 24\"\n",
              "       width=\"24px\">\n",
              "    <path d=\"M0 0h24v24H0V0z\" fill=\"none\"/>\n",
              "    <path d=\"M18.56 5.44l.94 2.06.94-2.06 2.06-.94-2.06-.94-.94-2.06-.94 2.06-2.06.94zm-11 1L8.5 8.5l.94-2.06 2.06-.94-2.06-.94L8.5 2.5l-.94 2.06-2.06.94zm10 10l.94 2.06.94-2.06 2.06-.94-2.06-.94-.94-2.06-.94 2.06-2.06.94z\"/><path d=\"M17.41 7.96l-1.37-1.37c-.4-.4-.92-.59-1.43-.59-.52 0-1.04.2-1.43.59L10.3 9.45l-7.72 7.72c-.78.78-.78 2.05 0 2.83L4 21.41c.39.39.9.59 1.41.59.51 0 1.02-.2 1.41-.59l7.78-7.78 2.81-2.81c.8-.78.8-2.07 0-2.86zM5.41 20L4 18.59l7.72-7.72 1.47 1.35L5.41 20z\"/>\n",
              "  </svg>\n",
              "      </button>\n",
              "      \n",
              "  <style>\n",
              "    .colab-df-container {\n",
              "      display:flex;\n",
              "      flex-wrap:wrap;\n",
              "      gap: 12px;\n",
              "    }\n",
              "\n",
              "    .colab-df-convert {\n",
              "      background-color: #E8F0FE;\n",
              "      border: none;\n",
              "      border-radius: 50%;\n",
              "      cursor: pointer;\n",
              "      display: none;\n",
              "      fill: #1967D2;\n",
              "      height: 32px;\n",
              "      padding: 0 0 0 0;\n",
              "      width: 32px;\n",
              "    }\n",
              "\n",
              "    .colab-df-convert:hover {\n",
              "      background-color: #E2EBFA;\n",
              "      box-shadow: 0px 1px 2px rgba(60, 64, 67, 0.3), 0px 1px 3px 1px rgba(60, 64, 67, 0.15);\n",
              "      fill: #174EA6;\n",
              "    }\n",
              "\n",
              "    [theme=dark] .colab-df-convert {\n",
              "      background-color: #3B4455;\n",
              "      fill: #D2E3FC;\n",
              "    }\n",
              "\n",
              "    [theme=dark] .colab-df-convert:hover {\n",
              "      background-color: #434B5C;\n",
              "      box-shadow: 0px 1px 3px 1px rgba(0, 0, 0, 0.15);\n",
              "      filter: drop-shadow(0px 1px 2px rgba(0, 0, 0, 0.3));\n",
              "      fill: #FFFFFF;\n",
              "    }\n",
              "  </style>\n",
              "\n",
              "      <script>\n",
              "        const buttonEl =\n",
              "          document.querySelector('#df-f7e23b61-9b0f-4dd6-b2d0-e827f8606e27 button.colab-df-convert');\n",
              "        buttonEl.style.display =\n",
              "          google.colab.kernel.accessAllowed ? 'block' : 'none';\n",
              "\n",
              "        async function convertToInteractive(key) {\n",
              "          const element = document.querySelector('#df-f7e23b61-9b0f-4dd6-b2d0-e827f8606e27');\n",
              "          const dataTable =\n",
              "            await google.colab.kernel.invokeFunction('convertToInteractive',\n",
              "                                                     [key], {});\n",
              "          if (!dataTable) return;\n",
              "\n",
              "          const docLinkHtml = 'Like what you see? Visit the ' +\n",
              "            '<a target=\"_blank\" href=https://colab.research.google.com/notebooks/data_table.ipynb>data table notebook</a>'\n",
              "            + ' to learn more about interactive tables.';\n",
              "          element.innerHTML = '';\n",
              "          dataTable['output_type'] = 'display_data';\n",
              "          await google.colab.output.renderOutput(dataTable, element);\n",
              "          const docLink = document.createElement('div');\n",
              "          docLink.innerHTML = docLinkHtml;\n",
              "          element.appendChild(docLink);\n",
              "        }\n",
              "      </script>\n",
              "    </div>\n",
              "  </div>\n",
              "  "
            ]
          },
          "metadata": {},
          "execution_count": 84
        }
      ]
    },
    {
      "cell_type": "code",
      "source": [
        "predictionsDf=predictionsDf.dropna()"
      ],
      "metadata": {
        "id": "HGuBiTdukcuR"
      },
      "execution_count": null,
      "outputs": []
    },
    {
      "cell_type": "code",
      "source": [
        "mean_squared_error(predictionsDf['logP_prediction'],predictionsDf['experimental_logP'])"
      ],
      "metadata": {
        "colab": {
          "base_uri": "https://localhost:8080/"
        },
        "id": "XNxzyugxjwR1",
        "outputId": "164b3347-d6cf-4b69-cd9a-93c7a4c7a474"
      },
      "execution_count": null,
      "outputs": [
        {
          "output_type": "execute_result",
          "data": {
            "text/plain": [
              "11.361611499999997"
            ]
          },
          "metadata": {},
          "execution_count": 90
        }
      ]
    },
    {
      "cell_type": "code",
      "source": [
        "predictionsDf.to_excel('Drugs_predictions.xlsx',index=False)"
      ],
      "metadata": {
        "id": "6gtNY4_Ekiv1"
      },
      "execution_count": null,
      "outputs": []
    }
  ]
}