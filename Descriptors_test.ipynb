{
  "cells": [
    {
      "cell_type": "code",
      "execution_count": null,
      "metadata": {
        "colab": {
          "base_uri": "https://localhost:8080/"
        },
        "id": "QDdAO6REuzEn",
        "outputId": "133cd5ad-4b21-4eba-8287-64cd6dd9a021"
      },
      "outputs": [
        {
          "output_type": "stream",
          "name": "stdout",
          "text": [
            "Looking in indexes: https://pypi.org/simple, https://us-python.pkg.dev/colab-wheels/public/simple/\n",
            "Requirement already satisfied: rdkit-pypi in /usr/local/lib/python3.7/dist-packages (2022.3.5)\n",
            "Requirement already satisfied: numpy in /usr/local/lib/python3.7/dist-packages (from rdkit-pypi) (1.21.6)\n",
            "Requirement already satisfied: Pillow in /usr/local/lib/python3.7/dist-packages (from rdkit-pypi) (7.1.2)\n"
          ]
        }
      ],
      "source": [
        "!pip install rdkit-pypi"
      ]
    },
    {
      "cell_type": "code",
      "execution_count": null,
      "metadata": {
        "id": "PNRxVaxmutER"
      },
      "outputs": [],
      "source": [
        "import pandas as pd\n",
        "import numpy as np\n",
        "import matplotlib.pyplot as plt\n",
        "from rdkit import Chem\n",
        "from rdkit.Chem import Draw\n",
        "import seaborn as sns\n",
        "from sklearn.model_selection import train_test_split\n",
        "from sklearn.svm import SVR\n",
        "from sklearn.ensemble import RandomForestRegressor\n",
        "from rdkit.Chem.Draw import IPythonConsole\n",
        "from sklearn import svm\n",
        "import pickle\n",
        "from sklearn.metrics import mean_squared_error\n",
        "from sklearn import preprocessing\n",
        "from sklearn.linear_model import LinearRegression\n",
        "from rdkit.Chem import rdMolDescriptors\n",
        "from rdkit.Chem import Descriptors3D\n",
        "from rdkit.Chem import Lipinski\n",
        "from rdkit.Chem import EnumerateHeterocycles\n",
        "from rdkit.Chem import Fragments"
      ]
    },
    {
      "cell_type": "code",
      "execution_count": null,
      "metadata": {
        "id": "vqFo28Le29eN"
      },
      "outputs": [],
      "source": [
        "logP=pd.read_csv('/content/logP_dataset.csv',names=['smiles','logP'])\n",
        "logP=logP.dropna()"
      ]
    },
    {
      "cell_type": "code",
      "execution_count": null,
      "metadata": {
        "colab": {
          "base_uri": "https://localhost:8080/",
          "height": 201
        },
        "id": "Id0zZynz3Hfn",
        "outputId": "a1d8d61b-15ad-427c-bfee-1f7e07cbaabe"
      },
      "outputs": [
        {
          "output_type": "execute_result",
          "data": {
            "text/plain": [
              "                                        smiles  logP\n",
              "0                        C[C@H]([C@@H](C)Cl)Cl   2.3\n",
              "1                                    C(C=CBr)N   0.3\n",
              "2                                    CCC(CO)Br   1.3\n",
              "3  [13CH3][13CH2][13CH2][13CH2][13CH2][13CH2]O   2.0\n",
              "4                                      CCCOCCP   0.6"
            ],
            "text/html": [
              "\n",
              "  <div id=\"df-5caff948-ea7f-4886-ab53-2bb90ac8d52c\">\n",
              "    <div class=\"colab-df-container\">\n",
              "      <div>\n",
              "<style scoped>\n",
              "    .dataframe tbody tr th:only-of-type {\n",
              "        vertical-align: middle;\n",
              "    }\n",
              "\n",
              "    .dataframe tbody tr th {\n",
              "        vertical-align: top;\n",
              "    }\n",
              "\n",
              "    .dataframe thead th {\n",
              "        text-align: right;\n",
              "    }\n",
              "</style>\n",
              "<table border=\"1\" class=\"dataframe\">\n",
              "  <thead>\n",
              "    <tr style=\"text-align: right;\">\n",
              "      <th></th>\n",
              "      <th>smiles</th>\n",
              "      <th>logP</th>\n",
              "    </tr>\n",
              "  </thead>\n",
              "  <tbody>\n",
              "    <tr>\n",
              "      <th>0</th>\n",
              "      <td>C[C@H]([C@@H](C)Cl)Cl</td>\n",
              "      <td>2.3</td>\n",
              "    </tr>\n",
              "    <tr>\n",
              "      <th>1</th>\n",
              "      <td>C(C=CBr)N</td>\n",
              "      <td>0.3</td>\n",
              "    </tr>\n",
              "    <tr>\n",
              "      <th>2</th>\n",
              "      <td>CCC(CO)Br</td>\n",
              "      <td>1.3</td>\n",
              "    </tr>\n",
              "    <tr>\n",
              "      <th>3</th>\n",
              "      <td>[13CH3][13CH2][13CH2][13CH2][13CH2][13CH2]O</td>\n",
              "      <td>2.0</td>\n",
              "    </tr>\n",
              "    <tr>\n",
              "      <th>4</th>\n",
              "      <td>CCCOCCP</td>\n",
              "      <td>0.6</td>\n",
              "    </tr>\n",
              "  </tbody>\n",
              "</table>\n",
              "</div>\n",
              "      <button class=\"colab-df-convert\" onclick=\"convertToInteractive('df-5caff948-ea7f-4886-ab53-2bb90ac8d52c')\"\n",
              "              title=\"Convert this dataframe to an interactive table.\"\n",
              "              style=\"display:none;\">\n",
              "        \n",
              "  <svg xmlns=\"http://www.w3.org/2000/svg\" height=\"24px\"viewBox=\"0 0 24 24\"\n",
              "       width=\"24px\">\n",
              "    <path d=\"M0 0h24v24H0V0z\" fill=\"none\"/>\n",
              "    <path d=\"M18.56 5.44l.94 2.06.94-2.06 2.06-.94-2.06-.94-.94-2.06-.94 2.06-2.06.94zm-11 1L8.5 8.5l.94-2.06 2.06-.94-2.06-.94L8.5 2.5l-.94 2.06-2.06.94zm10 10l.94 2.06.94-2.06 2.06-.94-2.06-.94-.94-2.06-.94 2.06-2.06.94z\"/><path d=\"M17.41 7.96l-1.37-1.37c-.4-.4-.92-.59-1.43-.59-.52 0-1.04.2-1.43.59L10.3 9.45l-7.72 7.72c-.78.78-.78 2.05 0 2.83L4 21.41c.39.39.9.59 1.41.59.51 0 1.02-.2 1.41-.59l7.78-7.78 2.81-2.81c.8-.78.8-2.07 0-2.86zM5.41 20L4 18.59l7.72-7.72 1.47 1.35L5.41 20z\"/>\n",
              "  </svg>\n",
              "      </button>\n",
              "      \n",
              "  <style>\n",
              "    .colab-df-container {\n",
              "      display:flex;\n",
              "      flex-wrap:wrap;\n",
              "      gap: 12px;\n",
              "    }\n",
              "\n",
              "    .colab-df-convert {\n",
              "      background-color: #E8F0FE;\n",
              "      border: none;\n",
              "      border-radius: 50%;\n",
              "      cursor: pointer;\n",
              "      display: none;\n",
              "      fill: #1967D2;\n",
              "      height: 32px;\n",
              "      padding: 0 0 0 0;\n",
              "      width: 32px;\n",
              "    }\n",
              "\n",
              "    .colab-df-convert:hover {\n",
              "      background-color: #E2EBFA;\n",
              "      box-shadow: 0px 1px 2px rgba(60, 64, 67, 0.3), 0px 1px 3px 1px rgba(60, 64, 67, 0.15);\n",
              "      fill: #174EA6;\n",
              "    }\n",
              "\n",
              "    [theme=dark] .colab-df-convert {\n",
              "      background-color: #3B4455;\n",
              "      fill: #D2E3FC;\n",
              "    }\n",
              "\n",
              "    [theme=dark] .colab-df-convert:hover {\n",
              "      background-color: #434B5C;\n",
              "      box-shadow: 0px 1px 3px 1px rgba(0, 0, 0, 0.15);\n",
              "      filter: drop-shadow(0px 1px 2px rgba(0, 0, 0, 0.3));\n",
              "      fill: #FFFFFF;\n",
              "    }\n",
              "  </style>\n",
              "\n",
              "      <script>\n",
              "        const buttonEl =\n",
              "          document.querySelector('#df-5caff948-ea7f-4886-ab53-2bb90ac8d52c button.colab-df-convert');\n",
              "        buttonEl.style.display =\n",
              "          google.colab.kernel.accessAllowed ? 'block' : 'none';\n",
              "\n",
              "        async function convertToInteractive(key) {\n",
              "          const element = document.querySelector('#df-5caff948-ea7f-4886-ab53-2bb90ac8d52c');\n",
              "          const dataTable =\n",
              "            await google.colab.kernel.invokeFunction('convertToInteractive',\n",
              "                                                     [key], {});\n",
              "          if (!dataTable) return;\n",
              "\n",
              "          const docLinkHtml = 'Like what you see? Visit the ' +\n",
              "            '<a target=\"_blank\" href=https://colab.research.google.com/notebooks/data_table.ipynb>data table notebook</a>'\n",
              "            + ' to learn more about interactive tables.';\n",
              "          element.innerHTML = '';\n",
              "          dataTable['output_type'] = 'display_data';\n",
              "          await google.colab.output.renderOutput(dataTable, element);\n",
              "          const docLink = document.createElement('div');\n",
              "          docLink.innerHTML = docLinkHtml;\n",
              "          element.appendChild(docLink);\n",
              "        }\n",
              "      </script>\n",
              "    </div>\n",
              "  </div>\n",
              "  "
            ]
          },
          "metadata": {},
          "execution_count": 4
        }
      ],
      "source": [
        "logP.head()"
      ]
    },
    {
      "cell_type": "code",
      "execution_count": null,
      "metadata": {
        "id": "SD3MjHzX2qPy"
      },
      "outputs": [],
      "source": [
        "logP['mol'] = logP['smiles'].apply(lambda x: Chem.MolFromSmiles(x)) \n",
        "logP['mol'] = logP['mol'].apply(lambda x: Chem.AddHs(x))\n",
        "def number_of_atoms(atom_list, data):\n",
        "    for i in atom_list:\n",
        "        data['num_of_{}_atoms'.format(i)] = data['mol'].apply(lambda x: len(x.GetSubstructMatches(Chem.MolFromSmiles(i))))\n",
        "\n",
        "number_of_atoms(['C','O', 'N', 'Cl','P','S'], logP)\n",
        "from rdkit.Chem import Descriptors\n",
        "logP['tpsa'] = logP['mol'].apply(lambda x: Descriptors.TPSA(x))\n",
        "logP['mol_w'] = logP['mol'].apply(lambda x: Descriptors.ExactMolWt(x))\n",
        "logP['MaxAbsPartialCharge'] = logP['mol'].apply(lambda x: Descriptors.MaxAbsPartialCharge(x, force=False))\n",
        "logP['MaxPartialCharge'] = logP['mol'].apply(lambda x: Descriptors.MaxPartialCharge(x, force=False))\n",
        "logP['MinAbsPartialCharge'] = logP['mol'].apply(lambda x: Descriptors.MinAbsPartialCharge(x, force=False))\n",
        "logP['MinPartialCharge'] = logP['mol'].apply(lambda x: Descriptors.MinPartialCharge(x, force=False))\n",
        "logP['num_valence_electrons'] = logP['mol'].apply(lambda x: Descriptors.NumValenceElectrons(x))\n",
        "logP['num_heteroatoms'] = logP['mol'].apply(lambda x: Descriptors.NumHeteroatoms(x))\n",
        "logP['Num_Rings']=logP['mol'].apply(lambda x: rdMolDescriptors.CalcNumRings(x))\n",
        "logP['Num_Rotatable_Bonds']=logP['mol'].apply(lambda x: rdMolDescriptors.CalcNumRotatableBonds(x))\n",
        "logP['Num_Saturated_Rings']=logP['mol'].apply(lambda x: rdMolDescriptors.CalcNumSaturatedRings(x))\n",
        "logP['Num_Heterocycles']=logP['mol'].apply(lambda x: rdMolDescriptors.CalcNumHeterocycles(x))\n",
        "logP['Num_Aliphatic_Carbocycles']=logP['mol'].apply(lambda x: rdMolDescriptors.CalcNumAliphaticCarbocycles(x))\n",
        "logP['Num_Aliphatic_Heterocycles']=logP['mol'].apply(lambda x: rdMolDescriptors.CalcNumAliphaticHeterocycles(x))\n",
        "logP['Num_Aliphatic_Rings']=logP['mol'].apply(lambda x: rdMolDescriptors.CalcNumAliphaticRings(x))\n",
        "logP['Num_Amide_Bonds']=logP['mol'].apply(lambda x: rdMolDescriptors.CalcNumAmideBonds(x))\n",
        "logP['Num_Aromatic_Carbocycle']=logP['mol'].apply(lambda x: rdMolDescriptors.CalcNumAromaticCarbocycles(x))\n",
        "logP['Num_Aromatic_Heterocyle']=logP['mol'].apply(lambda x: rdMolDescriptors.CalcNumAromaticHeterocycles(x))\n",
        "logP['Num_Aromatic_rings']=logP['mol'].apply(lambda x: rdMolDescriptors.CalcNumAromaticRings(x))\n",
        "logP['Heterotatoms/C_atoms']=logP['num_heteroatoms']/logP['num_of_C_atoms']\n",
        "logP['H_bonds_donors']=logP['mol'].apply(lambda x: Chem.Lipinski.NumHDonors(x))"
      ]
    },
    {
      "cell_type": "code",
      "source": [
        "logP=logP.dropna()"
      ],
      "metadata": {
        "id": "kbINwedNRUMC"
      },
      "execution_count": null,
      "outputs": []
    },
    {
      "cell_type": "code",
      "execution_count": null,
      "metadata": {
        "id": "340qWetytSd-"
      },
      "outputs": [],
      "source": [
        "X=logP.drop(columns=['mol','smiles','logP'])\n",
        "y=logP['logP']"
      ]
    },
    {
      "cell_type": "code",
      "source": [
        "X_train,X_test,y_train,y_test=train_test_split(X,y,test_size=.2)\n",
        "rf=RandomForestRegressor()\n",
        "rf.fit(X_train,y_train)\n",
        "rf.score(X_test,y_test)"
      ],
      "metadata": {
        "colab": {
          "base_uri": "https://localhost:8080/"
        },
        "id": "Qg82OiVff8v_",
        "outputId": "916dd523-a093-4848-8be2-a735bc8549e7"
      },
      "execution_count": null,
      "outputs": [
        {
          "output_type": "execute_result",
          "data": {
            "text/plain": [
              "0.9468537009648629"
            ]
          },
          "metadata": {},
          "execution_count": 34
        }
      ]
    },
    {
      "cell_type": "code",
      "source": [
        "X_train,X_test,y_train,y_test=train_test_split(X,y,test_size=.2)\n",
        "rf=RandomForestRegressor()\n",
        "rf.fit(X_train,y_train)\n",
        "rf.score(X_test,y_test)"
      ],
      "metadata": {
        "colab": {
          "base_uri": "https://localhost:8080/"
        },
        "id": "NUeLlqDVQx5s",
        "outputId": "ac55d32c-81a7-482d-9690-973ebc7bf10a"
      },
      "execution_count": null,
      "outputs": [
        {
          "output_type": "execute_result",
          "data": {
            "text/plain": [
              "0.9480579684074764"
            ]
          },
          "metadata": {},
          "execution_count": 24
        }
      ]
    },
    {
      "cell_type": "code",
      "source": [
        "X_train,X_test,y_train,y_test=train_test_split(X,y,test_size=.2)\n",
        "rf=RandomForestRegressor()\n",
        "rf.fit(X_train,y_train)\n",
        "rf.score(X_test,y_test)"
      ],
      "metadata": {
        "colab": {
          "base_uri": "https://localhost:8080/"
        },
        "id": "YxJ-24xNRWzm",
        "outputId": "b8aec281-a2d0-43c2-c254-4d852bccc82e"
      },
      "execution_count": null,
      "outputs": [
        {
          "output_type": "execute_result",
          "data": {
            "text/plain": [
              "0.9130259913888938"
            ]
          },
          "metadata": {},
          "execution_count": 18
        }
      ]
    },
    {
      "cell_type": "code",
      "source": [
        ""
      ],
      "metadata": {
        "id": "GcJs6BydRk9h"
      },
      "execution_count": null,
      "outputs": []
    }
  ],
  "metadata": {
    "colab": {
      "name": "Descriptors_test.ipynb",
      "provenance": [],
      "collapsed_sections": []
    },
    "kernelspec": {
      "display_name": "Python 3",
      "name": "python3"
    },
    "language_info": {
      "name": "python"
    }
  },
  "nbformat": 4,
  "nbformat_minor": 0
}